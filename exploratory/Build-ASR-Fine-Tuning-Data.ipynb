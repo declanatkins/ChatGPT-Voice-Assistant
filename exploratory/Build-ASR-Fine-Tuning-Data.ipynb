{
 "cells": [
  {
   "cell_type": "markdown",
   "id": "5025b33a",
   "metadata": {},
   "source": [
    "# ASR Fine Tuning\n",
    "\n",
    "In this notebook I will record myself reading pieces of text so that I can fine tune an ASR model on my voice."
   ]
  },
  {
   "cell_type": "code",
   "execution_count": 1,
   "id": "ab0ad8fd",
   "metadata": {},
   "outputs": [
    {
     "name": "stdout",
     "output_type": "stream",
     "text": [
      "Looking in indexes: https://pypi.org/simple, https://pypi.ngc.nvidia.com\r\n",
      "Requirement already satisfied: nltk in /Users/declanatkins/opt/anaconda3/envs/speech-project/lib/python3.10/site-packages (3.8.1)\r\n",
      "Requirement already satisfied: regex>=2021.8.3 in /Users/declanatkins/opt/anaconda3/envs/speech-project/lib/python3.10/site-packages (from nltk) (2023.3.23)\r\n",
      "Requirement already satisfied: joblib in /Users/declanatkins/opt/anaconda3/envs/speech-project/lib/python3.10/site-packages (from nltk) (1.2.0)\r\n",
      "Requirement already satisfied: click in /Users/declanatkins/opt/anaconda3/envs/speech-project/lib/python3.10/site-packages (from nltk) (8.1.3)\r\n",
      "Requirement already satisfied: tqdm in /Users/declanatkins/opt/anaconda3/envs/speech-project/lib/python3.10/site-packages (from nltk) (4.65.0)\r\n"
     ]
    },
    {
     "name": "stderr",
     "output_type": "stream",
     "text": [
      "[nltk_data] Downloading package punkt to\n",
      "[nltk_data]     /Users/declanatkins/nltk_data...\n",
      "[nltk_data]   Package punkt is already up-to-date!\n"
     ]
    },
    {
     "data": {
      "text/plain": [
       "True"
      ]
     },
     "execution_count": 1,
     "metadata": {},
     "output_type": "execute_result"
    }
   ],
   "source": [
    "# We need NLTK for sentence tokenisation\n",
    "!pip install nltk\n",
    "import nltk\n",
    "\n",
    "nltk.download('punkt')"
   ]
  },
  {
   "cell_type": "code",
   "execution_count": 19,
   "id": "aabb43ed",
   "metadata": {},
   "outputs": [],
   "source": [
    "import os\n",
    "import librosa\n",
    "import ipywidgets\n",
    "import IPython.display as ipd\n",
    "import numpy as np\n",
    "import sounddevice as sd\n",
    "import soundfile as sf\n",
    "import string"
   ]
  },
  {
   "cell_type": "code",
   "execution_count": 3,
   "id": "b3680424",
   "metadata": {},
   "outputs": [
    {
     "name": "stdout",
     "output_type": "stream",
     "text": [
      "There was no hope for him this time: it was the third stroke. Night after night I had passed the house (it was vacation time) and studied the lighted square of window: and night after night I had found it lighted in the same way, faintly and evenly. If he was dead, I thought, I would see the reflection of candles on the darkened blind for I knew that two candles must be set at the head of a corpse. He had often said to me: \"I am not long for this world,\" and I had thought his words idle. Now I knew they were true. Every night as I gazed up at the window I said softly to myself the word paralysis. It had always sounded strangely in my ears, like the word gnomon in the Euclid and the word simony in the Catechism. But now it sounded to me like the name of some maleficent and sinful being. It filled me with fear, and yet I longed to be nearer to it and to look upon its deadly work.  Old Cotter was sitting at the fire, smoking, when I came downstairs to supper. While my aunt was ladling out my stirabout he said, as if returning to some former remark of his:  \"No, I wouldn't say he was exactly ... but there was something queer ... there was something uncanny about him. I'll tell you my opinion....\"  He began to puff at his pipe, no doubt arranging his opinion in his mind. Tiresome old fool! When we knew him first he used to be rather interesting, talking of faints and worms; but I soon grew tired of him and his endless stories about the distillery.  \"I have my own theory about it,\" he said. \"I think it was one of those ... peculiar cases.... But it's hard to say....\"  He began to puff again at his pipe without giving us his theory. My uncle saw me staring and said to me:  \"Well, so your old friend is gone, you'll be sorry to hear.\"  \"Who?\" said I.  \"Father Flynn.\"  \"Is he dead?\"  \"Mr Cotter here has just told us. He was passing by the house.\"  I knew that I was under observation so I continued eating as if the news had not interested me. My uncle explained to old Cotter.  \"The youngster and he were great friends. The old chap taught him a great deal, mind you; and they say he had a great wish for him.\"  \"God have mercy on his soul,\" said my aunt piously.  Old Cotter looked at me for a while. I felt that his little beady black eyes were examining me but I would not satisfy him by looking up from my plate. He returned to his pipe and finally spat rudely into the grate.  \"I wouldn't like children of mine,\" he said, \"to have too much to say to a man like that.\"  \"How do you mean, Mr Cotter?\" asked my aunt.  \"What I mean is,\" said old Cotter, \"it's bad for children. My idea is: let a young lad run about and play with young lads of his own age and not be.... Am I right, Jack?\"  \"That's my principle, too,\" said my uncle. \"Let him learn to box his corner. That's what I'm always saying to that Rosicrucian there: take exercise. Why, when I was a nipper every morning of my life I had a cold bath, winter and summer. And that's what stands to me now. Education is all very fine and large.... Mr Cotter might take a pick of that leg mutton,\" he added to my aunt.  \"No, no, not for me,\" said old Cotter.  My aunt brought the dish from the safe and put it on the table.  \"But why do you think it's not good for children, Mr Cotter?\" she asked.  \"It's bad for children,\" said old Cotter, \"because their minds are so impressionable. When children see things like that, you know, it has an effect....\"  I crammed my mouth with stirabout for fear I might give utterance to my anger. Tiresome old red-nosed imbecile!  It was late when I fell asleep. Though I was angry with old Cotter for alluding to me as a child, I puzzled my head to extract meaning from his unfinished sentences. In the dark of my room I imagined that I saw again the heavy grey face of the paralytic. I drew the blankets over my head and tried to think of Christmas. But the grey face still followed me. It murmured; and I understood that it desired to confess something. I felt my soul receding into some pleasant and vicious region; and there again I found it waiting for me. It began to confess to me in a murmuring voice and I wondered why it smiled continually and why the lips were so moist with spittle. But then I remembered that it had died of paralysis and I felt that I too was smiling feebly as if to absolve the simoniac of his sin.  The next morning after breakfast I went down to look at the little house in Great Britain Street. It was an unassuming shop, registered under the vague name of _Drapery_. The drapery consisted mainly of children's bootees and umbrellas; and on ordinary days a notice used to hang in the window, saying: _Umbrellas Re-covered_. No notice was visible now for the shutters were up. A crape bouquet was tied to the door-knocker with ribbon. Two poor women and a telegram boy were reading the card pinned on the crape. I also approached and read:       July 1st, 1895      The Rev. James Flynn (formerly of S. Catherine's      Church, Meath Street), aged sixty-five years.      _R. I. P._  The reading of the card persuaded me that he was dead and I was disturbed to find myself at check. Had he not been dead I would have gone into the little dark room behind the shop to find him sitting in his arm-chair by the fire, nearly smothered in his great-coat. Perhaps my aunt would have given me a packet of High Toast for him and this present would have roused him from his stupefied doze. It was always I who emptied the packet into his black snuff-box for his hands trembled too much to allow him to do this without spilling half the snuff about the floor. Even as he raised his large trembling hand to his nose little clouds of smoke dribbled through his fingers over the front of his coat. It may have been these constant showers of snuff which gave his ancient priestly garments their green faded look for the red handkerchief, blackened, as it always was, with the snuff-stains of a week, with which he tried to brush away the fallen grains, was quite inefficacious.  I wished to go in and look at him but I had not the courage to knock. I walked away slowly along the sunny side of the street, reading all the theatrical advertisements in the shop-windows as I went. I found it strange that neither I nor the day seemed in a mourning mood and I felt even annoyed at discovering in myself a sensation of freedom as if I had been freed from something by his death. I wondered at this for, as my uncle had said the night before, he had taught me a great deal. He had studied in the Irish college in Rome and he had taught me to pronounce Latin properly. He had told me stories about the catacombs and about Napoleon Bonaparte, and he had explained to me the meaning of the different ceremonies of the Mass and of the different vestments worn by the priest. Sometimes he had amused himself by putting difficult questions to me, asking me what one should do in certain circumstances or whether such and such sins were mortal or venial or only imperfections. His questions showed me how complex and mysterious were certain institutions of the Church which I had always regarded as the simplest acts. The duties of the priest towards the Eucharist and towards the secrecy of the confessional seemed so grave to me that I wondered how anybody had ever found in himself the courage to undertake them; and I was not surprised when he told me that the fathers of the Church had written books as thick as the _Post Office Directory_ and as closely printed as the law notices in the newspaper, elucidating all these intricate questions. Often when I thought of this I could make no answer or only a very foolish and halting one upon which he used to smile and nod his head twice or thrice. Sometimes he used to put me through the responses of the Mass which he had made me learn by heart; and, as I pattered, he used to smile pensively and nod his head, now and then pushing huge pinches of snuff up each nostril alternately. When he smiled he used to uncover his big discoloured teeth and let his tongue lie upon his lower lip—a habit which had made me feel uneasy in the beginning of our acquaintance before I knew him well.  As I walked along in the sun I remembered old Cotter's words and tried to remember what had happened afterwards in the dream. I remembered that I had noticed long velvet curtains and a swinging lamp of antique fashion. I felt that I had been very far away, in some land where the customs were strange—in Persia, I thought.... But I could not remember the end of the dream.  In the evening my aunt took me with her to visit the house of mourning. It was after sunset; but the window-panes of the houses that looked to the west reflected the tawny gold of a great bank of clouds. Nannie received us in the hall; and, as it would have been unseemly to have shouted at her, my aunt shook hands with her for all. The old woman pointed upwards interrogatively and, on my aunt's nodding, proceeded to toil up the narrow staircase before us, her bowed head being scarcely above the level of the banister-rail. At the first landing she stopped and beckoned us forward encouragingly towards the open door of the dead-room. My aunt went in and the old woman, seeing that I hesitated to enter, began to beckon to me again repeatedly with her hand.  I went in on tiptoe. The room through the lace end of the blind was suffused with dusky golden light amid which the candles looked like pale thin flames. He had been coffined. Nannie gave the lead and we three knelt down at the foot of the bed. I pretended to pray but I could not gather my thoughts because the old woman's mutterings distracted me. I noticed how clumsily her skirt was hooked at the back and how the heels of her cloth boots were trodden down all to one side. The fancy came to me that the old priest was smiling as he lay there in his coffin.  But no. When we rose and went up to the head of the bed I saw that he was not smiling. There he lay, solemn and copious, vested as for the altar, his large hands loosely retaining a chalice. His face was very truculent, grey and massive, with black cavernous nostrils and circled by a scanty white fur. There was a heavy odour in the room—the flowers.  We blessed ourselves and came away. In the little room downstairs we found Eliza seated in his arm-chair in state. I groped my way towards my usual chair in the corner while Nannie went to the sideboard and brought out a decanter of sherry and some wine-glasses. She set these on the table and invited us to take a little glass of wine. Then, at her sister's bidding, she filled out the sherry into the glasses and passed them to us. She pressed me to take some cream crackers also but I declined because I thought I would make too much noise eating them. She seemed to be somewhat disappointed at my refusal and went over quietly to the sofa where she sat down behind her sister. No one spoke: we all gazed at the empty fireplace.  My aunt waited until Eliza sighed and then said:  \"Ah, well, he's gone to a better world.\"  Eliza sighed again and bowed her head in assent. My aunt fingered the stem of her wine-glass before sipping a little.  \"Did he ... peacefully?\" she asked.  \"Oh, quite peacefully, ma'am,\" said Eliza. \"You couldn't tell when the breath went out of him. He had a beautiful death, God be praised.\"  \"And everything...?\"  \"Father O'Rourke was in with him a Tuesday and anointed him and prepared him and all.\"  \"He knew then?\"  \"He was quite resigned.\"  \"He looks quite resigned,\" said my aunt.  \"That's what the woman we had in to wash him said. She said he just looked as if he was asleep, he looked that peaceful and resigned. No one would think he'd make such a beautiful corpse.\"  \"Yes, indeed,\" said my aunt.  She sipped a little more from her glass and said:  \"Well, Miss Flynn, at any rate it must be a great comfort for you to know that you did all you could for him. You were both very kind to him, I must say.\"  Eliza smoothed her dress over her knees.  \"Ah, poor James!\" she said. \"God knows we done all we could, as poor as we are—we wouldn't see him want anything while he was in it.\"  Nannie had leaned her head against the sofa-pillow and seemed about to fall asleep.  \"There's poor Nannie,\" said Eliza, looking at her, \"she's wore out. All the work we had, she and me, getting in the woman to wash him and then laying him out and then the coffin and then arranging about the Mass in the chapel. Only for Father O'Rourke I don't know what we'd have done at all. It was him brought us all them flowers and them two candlesticks out of the chapel and wrote out the notice for the _Freeman's General_ and took charge of all the papers for the cemetery and poor James's insurance.\"  \"Wasn't that good of him?\" said my aunt.  Eliza closed her eyes and shook her head slowly.  \"Ah, there's no friends like the old friends,\" she said, \"when all is said and done, no friends that a body can trust.\"  \"Indeed, that's true,\" said my aunt. \"And I'm sure now that he's gone to his eternal reward he won't forget you and all your kindness to him.\"  \"Ah, poor James!\" said Eliza. \"He was no great trouble to us. You wouldn't hear him in the house any more than now. Still, I know he's gone and all to that....\"  \"It's when it's all over that you'll miss him,\" said my aunt.  \"I know that,\" said Eliza. \"I won't be bringing him in his cup of beef-tea any more, nor you, ma'am, sending him his snuff. Ah, poor James!\"  She stopped, as if she were communing with the past and then said shrewdly:  \"Mind you, I noticed there was something queer coming over him latterly. Whenever I'd bring in his soup to him there I'd find him with his breviary fallen to the floor, lying back in the chair and his mouth open.\"  She laid a finger against her nose and frowned: then she continued:  \"But still and all he kept on saying that before the summer was over he'd go out for a drive one fine day just to see the old house again where we were all born down in Irishtown and take me and Nannie with him. If we could only get one of them new-fangled carriages that makes no noise that Father O'Rourke told him about, them with the rheumatic wheels, for the day cheap—he said, at Johnny Rush's over the way there and drive out the three of us together of a Sunday evening. He had his mind set on that.... Poor James!\"  \"The Lord have mercy on his soul!\" said my aunt.  Eliza took out her handkerchief and wiped her eyes with it. Then she put it back again in her pocket and gazed into the empty grate for some time without speaking.  \"He was too scrupulous always,\" she said. \"The duties of the priesthood was too much for him. And then his life was, you might say, crossed.\"  \"Yes,\" said my aunt. \"He was a disappointed man. You could see that.\"  A silence took possession of the little room and, under cover of it, I approached the table and tasted my sherry and then returned quietly to my chair in the corner. Eliza seemed to have fallen into a deep revery. We waited respectfully for her to break the silence: and after a long pause she said slowly:  \"It was that chalice he broke.... That was the beginning of it. Of course, they say it was all right, that it contained nothing, I mean. But still.... They say it was the boy's fault. But poor James was so nervous, God be merciful to him!\"  \"And was that it?\" said my aunt. \"I heard something....\"  Eliza nodded.  \"That affected his mind,\" she said. \"After that he began to mope by himself, talking to no one and wandering about by himself. So one night he was wanted for to go on a call and they couldn't find him anywhere. They looked high up and low down; and still they couldn't see a sight of him anywhere. So then the clerk suggested to try the chapel. So then they got the keys and opened the chapel and the clerk and Father O'Rourke and another priest that was there brought in a light for to look for him.... And what do you think but there he was, sitting up by himself in the dark in his confession-box, wide-awake and laughing-like softly to himself?\"  She stopped suddenly as if to listen. I too listened; but there was no sound in the house: and I knew that the old priest was lying still in his coffin as we had seen him, solemn and truculent in death, an idle chalice on his breast.  Eliza resumed:  \"Wide-awake and laughing-like to himself.... So then, of course, when they saw that, that made them think that there was something gone wrong with him....\"\n"
     ]
    }
   ],
   "source": [
    "# First chapter of Dubliners by James Joyce\n",
    "with open('dubliners_chapter_1.txt') as f:\n",
    "    text = f.read().replace('\\n', ' ').replace('“', '\"').replace('”', '\"').replace('’', \"'\")\n",
    "print(text)"
   ]
  },
  {
   "cell_type": "code",
   "execution_count": 12,
   "id": "406bfa14",
   "metadata": {},
   "outputs": [],
   "source": [
    "text_sents = nltk.tokenize.sent_tokenize(text)\n",
    "for i, sent in enumerate(text_sents):\n",
    "    text_sents[i] = sent.translate(str.maketrans('', '', string.punctuation))"
   ]
  },
  {
   "cell_type": "code",
   "execution_count": 13,
   "id": "a8ac1a86",
   "metadata": {},
   "outputs": [
    {
     "data": {
      "text/plain": [
       "['There was no hope for him this time it was the third stroke',\n",
       " 'Night after night I had passed the house it was vacation time and studied the lighted square of window and night after night I had found it lighted in the same way faintly and evenly',\n",
       " 'If he was dead I thought I would see the reflection of candles on the darkened blind for I knew that two candles must be set at the head of a corpse',\n",
       " 'He had often said to me I am not long for this world and I had thought his words idle',\n",
       " 'Now I knew they were true',\n",
       " 'Every night as I gazed up at the window I said softly to myself the word paralysis',\n",
       " 'It had always sounded strangely in my ears like the word gnomon in the Euclid and the word simony in the Catechism',\n",
       " 'But now it sounded to me like the name of some maleficent and sinful being',\n",
       " 'It filled me with fear and yet I longed to be nearer to it and to look upon its deadly work',\n",
       " 'Old Cotter was sitting at the fire smoking when I came downstairs to supper',\n",
       " 'While my aunt was ladling out my stirabout he said as if returning to some former remark of his  No I wouldnt say he was exactly  but there was something queer  there was something uncanny about him',\n",
       " 'Ill tell you my opinion  He began to puff at his pipe no doubt arranging his opinion in his mind',\n",
       " 'Tiresome old fool',\n",
       " 'When we knew him first he used to be rather interesting talking of faints and worms but I soon grew tired of him and his endless stories about the distillery',\n",
       " 'I have my own theory about it he said',\n",
       " 'I think it was one of those  peculiar cases',\n",
       " 'But its hard to say  He began to puff again at his pipe without giving us his theory',\n",
       " 'My uncle saw me staring and said to me  Well so your old friend is gone youll be sorry to hear',\n",
       " 'Who',\n",
       " 'said I']"
      ]
     },
     "execution_count": 13,
     "metadata": {},
     "output_type": "execute_result"
    }
   ],
   "source": [
    "text_sents[:20]"
   ]
  },
  {
   "cell_type": "code",
   "execution_count": 14,
   "id": "03d6fc0f",
   "metadata": {},
   "outputs": [],
   "source": [
    "# We should also record multiple instances of the activation phrase\n",
    "\n",
    "activation_word = 'hello'\n",
    "\n",
    "text_sents = 5 * [activation_word] + text_sents"
   ]
  },
  {
   "cell_type": "code",
   "execution_count": 16,
   "id": "5ceff106",
   "metadata": {},
   "outputs": [
    {
     "data": {
      "application/vnd.jupyter.widget-view+json": {
       "model_id": "6d823006860244399d777688566db918",
       "version_major": 2,
       "version_minor": 0
      },
      "text/plain": [
       "Textarea(value='hello', description='Sentence:', layout=Layout(height='100px'))"
      ]
     },
     "metadata": {},
     "output_type": "display_data"
    },
    {
     "data": {
      "application/vnd.jupyter.widget-view+json": {
       "model_id": "2d4b392906424298b1d4eab49b8db2e8",
       "version_major": 2,
       "version_minor": 0
      },
      "text/plain": [
       "Button(description='Start Recording', style=ButtonStyle())"
      ]
     },
     "metadata": {},
     "output_type": "display_data"
    },
    {
     "data": {
      "application/vnd.jupyter.widget-view+json": {
       "model_id": "e657deda00f64843a1b28effc72ec91c",
       "version_major": 2,
       "version_minor": 0
      },
      "text/plain": [
       "Button(description='Stop Recording', disabled=True, style=ButtonStyle())"
      ]
     },
     "metadata": {},
     "output_type": "display_data"
    },
    {
     "data": {
      "application/vnd.jupyter.widget-view+json": {
       "model_id": "62b72a1c5d09402f87103329fb1213f7",
       "version_major": 2,
       "version_minor": 0
      },
      "text/plain": [
       "Button(description='Next', style=ButtonStyle())"
      ]
     },
     "metadata": {},
     "output_type": "display_data"
    }
   ],
   "source": [
    "import pyaudio\n",
    "import wave\n",
    "import IPython.display as ipd\n",
    "import ipywidgets as widgets\n",
    "import threading\n",
    "\n",
    "recording_thread = None\n",
    "stream = None\n",
    "def record():\n",
    "    global stream\n",
    "    while recording:\n",
    "        data = stream.read(1024, exception_on_overflow=False)\n",
    "        frames.append(data)\n",
    "\n",
    "# Function to start recording audio\n",
    "def start_recording(button):\n",
    "    global recording, current_sentence_index, frames, recording_thread, stream\n",
    "    recording = True\n",
    "    button_start.disabled = True\n",
    "    button_stop.disabled = False\n",
    "    button_repeat.disabled = True\n",
    "    frames = []\n",
    "    sentence_text.value = sentences[current_sentence_index]\n",
    "    stream = p.open(format=pyaudio.paInt16,\n",
    "                channels=1,\n",
    "                rate=16000,\n",
    "                input=True,\n",
    "                frames_per_buffer=1024,\n",
    "                stream_callback=None)\n",
    "    stream.start_stream()\n",
    "    recording_thread = threading.Thread(target=record)\n",
    "    recording_thread.start()\n",
    "\n",
    "# Function to stop recording audio\n",
    "def stop_recording(button):\n",
    "    global recording, current_sentence_index, recording_thread, stream\n",
    "    recording = False\n",
    "    recording_thread.join()\n",
    "    button_start.disabled = False\n",
    "    button_stop.disabled = True\n",
    "    button_repeat.disabled = False\n",
    "    stream.stop_stream()\n",
    "    stream.close()\n",
    "    sentence_text.value = \"Recording complete.\"\n",
    "    write_audio(frames, f'fine_tuning_data/recording_sentence_{current_sentence_index+1}.wav')\n",
    "\n",
    "# Function to write audio frames to wav file\n",
    "def write_audio(frames, filename):\n",
    "    p = pyaudio.PyAudio()\n",
    "    wf = wave.open(filename, 'wb')\n",
    "    wf.setnchannels(1)\n",
    "    wf.setsampwidth(p.get_sample_size(pyaudio.paInt16))\n",
    "    wf.setframerate(16000)\n",
    "    wf.writeframes(b''.join(frames))\n",
    "    wf.close()\n",
    "\n",
    "# Function to move to next sentence\n",
    "def next_sentence(button):\n",
    "    global current_sentence_index\n",
    "    if current_sentence_index < len(sentences) - 1:\n",
    "        current_sentence_index += 1\n",
    "        sentence_text.value = sentences[current_sentence_index]\n",
    "    else:\n",
    "        sentence_text.value = \"All sentences recorded.\"\n",
    "\n",
    "# List of sentences\n",
    "sentences = text_sents\n",
    "current_sentence_index = 0\n",
    "\n",
    "# Create buttons\n",
    "button_start = widgets.Button(description=\"Start Recording\")\n",
    "button_stop = widgets.Button(description=\"Stop Recording\")\n",
    "button_stop.disabled = True\n",
    "button_repeat.disabled = True\n",
    "button_next = widgets.Button(description=\"Next\")\n",
    "button_next.disabled = False\n",
    "\n",
    "# Add button click event handlers\n",
    "button_start.on_click(start_recording)\n",
    "button_stop.on_click(stop_recording)\n",
    "button_next.on_click(next_sentence)\n",
    "\n",
    "# Create sentence text widget\n",
    "sentence_text = widgets.Textarea(value=sentences[current_sentence_index],\n",
    "                                  description='Sentence:',\n",
    "                                  layout={'height': '100px'}) \n",
    "# Display widgets\n",
    "display(sentence_text)\n",
    "display(button_start)\n",
    "display(button_stop)\n",
    "display(button_next)\n",
    "\n",
    "recording = False\n",
    "\n",
    "# Create PyAudio stream\n",
    "p = pyaudio.PyAudio()\n",
    "frames = []"
   ]
  },
  {
   "cell_type": "code",
   "execution_count": 18,
   "id": "cb812e1e",
   "metadata": {},
   "outputs": [
    {
     "data": {
      "text/plain": [
       "90"
      ]
     },
     "execution_count": 18,
     "metadata": {},
     "output_type": "execute_result"
    }
   ],
   "source": [
    "current_sentence_index"
   ]
  },
  {
   "cell_type": "code",
   "execution_count": 22,
   "id": "d323a99e",
   "metadata": {},
   "outputs": [],
   "source": [
    "with open('fine_tuning_data/train.txt', 'w') as f:\n",
    "    f.write('path|transcript|duration\\n')\n",
    "    for i in range(current_sentence_index):\n",
    "        file_name = f'fine_tuning_data/recording_sentence_{i+1}.wav'\n",
    "        y, sr = librosa.load(file_name)\n",
    "        duration = len(y) / sr\n",
    "        f.write(f'{file_name}|{text_sents[i]}|{duration}\\n')\n"
   ]
  },
  {
   "cell_type": "code",
   "execution_count": null,
   "id": "930ac038",
   "metadata": {},
   "outputs": [],
   "source": []
  }
 ],
 "metadata": {
  "kernelspec": {
   "display_name": "Python 3 (ipykernel)",
   "language": "python",
   "name": "python3"
  },
  "language_info": {
   "codemirror_mode": {
    "name": "ipython",
    "version": 3
   },
   "file_extension": ".py",
   "mimetype": "text/x-python",
   "name": "python",
   "nbconvert_exporter": "python",
   "pygments_lexer": "ipython3",
   "version": "3.10.10"
  }
 },
 "nbformat": 4,
 "nbformat_minor": 5
}
